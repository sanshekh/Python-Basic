{
 "cells": [
  {
   "cell_type": "code",
   "execution_count": 1,
   "metadata": {},
   "outputs": [
    {
     "data": {
      "text/plain": [
       "[3,\n",
       " 5,\n",
       " 7,\n",
       " 11,\n",
       " 13,\n",
       " 17,\n",
       " 19,\n",
       " 23,\n",
       " 29,\n",
       " 31,\n",
       " 37,\n",
       " 41,\n",
       " 43,\n",
       " 47,\n",
       " 53,\n",
       " 59,\n",
       " 61,\n",
       " 67,\n",
       " 71,\n",
       " 73,\n",
       " 79,\n",
       " 83,\n",
       " 89,\n",
       " 97]"
      ]
     },
     "execution_count": 1,
     "metadata": {},
     "output_type": "execute_result"
    }
   ],
   "source": [
    "# WAP to print prime nos. between 1 and 100\n",
    "\n",
    "li=[n   for n in range(3,100)  if 0 not in [n%i for i in range(2,n)]]\n",
    "li"
   ]
  },
  {
   "cell_type": "code",
   "execution_count": 2,
   "metadata": {},
   "outputs": [
    {
     "name": "stdout",
     "output_type": "stream",
     "text": [
      "[222324, 161718, 101112]\n"
     ]
    }
   ],
   "source": [
    "List = [123, 456, 789, 101112, 131415, 161718, 192021, 222324]\n",
    "print(List[-5::][::-2])"
   ]
  },
  {
   "cell_type": "code",
   "execution_count": 1,
   "metadata": {},
   "outputs": [
    {
     "data": {
      "text/plain": [
       "True"
      ]
     },
     "execution_count": 1,
     "metadata": {},
     "output_type": "execute_result"
    }
   ],
   "source": [
    "bool(-1)"
   ]
  },
  {
   "cell_type": "code",
   "execution_count": 13,
   "metadata": {},
   "outputs": [
    {
     "name": "stdout",
     "output_type": "stream",
     "text": [
      "Enter 1st no15\n",
      "Enter 2nd no20\n",
      "LCM of the numbers are 60.0\n"
     ]
    }
   ],
   "source": [
    "# WAP to find out LCM\n",
    "num1=int(input('Enter 1st no'))\n",
    "num2=int(input('Enter 2nd no'))\n",
    "if(num1>num2):\n",
    "    small=num2\n",
    "else:\n",
    "    small=num1\n",
    "for i in range (1,small+1):\n",
    "    if(num1%i==0) and (num2%i==0):\n",
    "        HCF=i\n",
    "lcm=(num1*num2)/HCF\n",
    "print('LCM of the numbers are',lcm)"
   ]
  },
  {
   "cell_type": "code",
   "execution_count": 2,
   "metadata": {},
   "outputs": [
    {
     "name": "stdout",
     "output_type": "stream",
     "text": [
      "Enter 1st no2\n",
      "Enter 2nd no4\n",
      "HCF of two numbers are 2\n"
     ]
    }
   ],
   "source": [
    "# WAP to find HCF\n",
    "num1=int(input('Enter 1st no'))\n",
    "num2=int(input('Enter 2nd no'))\n",
    "if(num1>num2):\n",
    "    small=num2\n",
    "else:\n",
    "    small=num1\n",
    "for i in range (1,small+1):\n",
    "    if(num1%i==0) and (num2%i==0):\n",
    "        HCF=i\n",
    "print(\"HCF of two numbers are\",HCF)"
   ]
  },
  {
   "cell_type": "code",
   "execution_count": 33,
   "metadata": {},
   "outputs": [
    {
     "name": "stdout",
     "output_type": "stream",
     "text": [
      "1\n",
      "2\n",
      "3\n",
      "5\n",
      "8\n",
      "8\n"
     ]
    }
   ],
   "source": [
    "# WAP to print the fibonacci series between 0 to 100\n",
    "\n",
    "def fibonacci(n): \n",
    "    a = 0\n",
    "    b = 1\n",
    "    if n < 0: \n",
    "        print(\"Incorrect input\") \n",
    "    elif n == 0:\n",
    "        print(a)\n",
    "    elif n == 1:\n",
    "        print(b)\n",
    "    else: \n",
    "        for i in range(2,n): \n",
    "            c = a + b \n",
    "            a = b \n",
    "            b = c \n",
    "            print(b)\n",
    "        return b \n",
    "print(fibonacci(7))"
   ]
  },
  {
   "cell_type": "code",
   "execution_count": 35,
   "metadata": {},
   "outputs": [
    {
     "name": "stdout",
     "output_type": "stream",
     "text": [
      "1\n",
      "2\n",
      "3\n",
      "5\n",
      "8\n",
      "13\n",
      "21\n",
      "34\n",
      "34\n"
     ]
    }
   ],
   "source": [
    "print(fibonacci(10))\n"
   ]
  },
  {
   "cell_type": "code",
   "execution_count": 16,
   "metadata": {},
   "outputs": [
    {
     "name": "stdout",
     "output_type": "stream",
     "text": [
      "Enter the word radar\n",
      "The word is palindrome\n"
     ]
    }
   ],
   "source": [
    "# WAP to find if the word is palindrome\n",
    "str1=str(input('Enter the word '))\n",
    "my_str2=str1[::-1]\n",
    "if my_str2==str1:\n",
    "    print('The word is palindrome')\n",
    "else:\n",
    "    print('The word is not a palindrome')\n",
    "    "
   ]
  },
  {
   "cell_type": "code",
   "execution_count": 23,
   "metadata": {},
   "outputs": [
    {
     "name": "stdout",
     "output_type": "stream",
     "text": [
      "Enter a no 5456\n",
      "Reverse of entered number is 6545.0\n"
     ]
    }
   ],
   "source": [
    "#WAP to find if the number is palindrome\n",
    "Number=int(input(\"Enter a no \"))\n",
    "Reverse = 0.\n",
    "while(Number > 0):\n",
    "    Remainder = Number %10\n",
    "    Reverse = (Reverse *10) + Remainder\n",
    "    Number = Number //10\n",
    "print(\"Reverse of entered number is\" ,Reverse)"
   ]
  },
  {
   "cell_type": "code",
   "execution_count": 30,
   "metadata": {},
   "outputs": [
    {
     "name": "stdout",
     "output_type": "stream",
     "text": [
      "Enter a string My name is Sandeep Shekhar\n",
      "Count of letter in uppercase are  3\n",
      "Count of letter in lowercase are  19\n"
     ]
    }
   ],
   "source": [
    "# WAP to count the no of upper and lower letters in a string\n",
    "my_str=str(input('Enter a string '))\n",
    "small_count=0\n",
    "caps_count=0\n",
    "for letter in my_str:\n",
    "    if ord(letter) in range (97,123):\n",
    "        small_count+=1\n",
    "    elif ord(letter) in range(65,91):\n",
    "        caps_count+=1\n",
    "print(\"Count of letter in uppercase are \", caps_count)\n",
    "print(\"Count of letter in lowercase are \", small_count)"
   ]
  },
  {
   "cell_type": "code",
   "execution_count": 5,
   "metadata": {},
   "outputs": [
    {
     "name": "stdout",
     "output_type": "stream",
     "text": [
      "Enter a number 7\n",
      "5040\n"
     ]
    }
   ],
   "source": [
    "# WAP to find factorial of number\n",
    "my_num=int(input('Enter a number '))\n",
    "fact=1\n",
    "if (my_num<0):\n",
    "    print('Factorial of negative no does not exist')\n",
    "    \n",
    "elif(my_num==0):\n",
    "    print('Factorial of 0 is 1')\n",
    "    \n",
    "else:\n",
    "    for i in range(1,my_num+1):\n",
    "        fact=fact*i\n",
    "    print(fact)"
   ]
  },
  {
   "cell_type": "code",
   "execution_count": null,
   "metadata": {},
   "outputs": [],
   "source": [
    "# WAP to print prime nos between 1 and 100\n"
   ]
  },
  {
   "cell_type": "markdown",
   "metadata": {},
   "source": [
    "## Given a string, return a string where for every character in the original there are three character"
   ]
  },
  {
   "cell_type": "code",
   "execution_count": 11,
   "metadata": {},
   "outputs": [
    {
     "name": "stdout",
     "output_type": "stream",
     "text": [
      "Enter the word How\n",
      "HHHooowww\n"
     ]
    }
   ],
   "source": [
    "my_str = str(input(\"Enter the word \"))\n",
    "final_str = ''\n",
    "for word in my_str:\n",
    "    final_str = final_str+ (3*word)\n",
    "print(final_str)\n",
    "    "
   ]
  },
  {
   "cell_type": "markdown",
   "metadata": {},
   "source": [
    "## Given a sentence reverse the order of words of the sentence"
   ]
  },
  {
   "cell_type": "code",
   "execution_count": 22,
   "metadata": {},
   "outputs": [
    {
     "name": "stdout",
     "output_type": "stream",
     "text": [
      "Enter a word: how r u\n",
      "['how', 'r', 'u']\n",
      "u r how\n"
     ]
    }
   ],
   "source": [
    "my_str = str(input(\"Enter a word: \"))\n",
    "rev_str = ''\n",
    "my_str = my_str.split()\n",
    "print(my_str)\n",
    "rev_str = ' '.join(my_str[::-1])\n",
    "print(rev_str)"
   ]
  },
  {
   "cell_type": "code",
   "execution_count": 20,
   "metadata": {},
   "outputs": [
    {
     "name": "stdout",
     "output_type": "stream",
     "text": [
      "Enter a wordwhere r u\n"
     ]
    },
    {
     "data": {
      "text/plain": [
       "'u r erehw'"
      ]
     },
     "execution_count": 20,
     "metadata": {},
     "output_type": "execute_result"
    }
   ],
   "source": [
    "my_str = str(input(\"Enter a word\"))\n",
    "nw = ''.join(my_str[::-1])\n",
    "nw"
   ]
  },
  {
   "cell_type": "markdown",
   "metadata": {},
   "source": [
    "## WAP to sort a enetered sentence as per the users choice"
   ]
  },
  {
   "cell_type": "code",
   "execution_count": 31,
   "metadata": {},
   "outputs": [
    {
     "name": "stdout",
     "output_type": "stream",
     "text": [
      "Enter a string: sort a enetered sentence as\n",
      "a as enetered sentence sort\n"
     ]
    }
   ],
   "source": [
    "my_str = str(input(\"Enter a string: \"))\n",
    "my_sp = my_str.split()\n",
    "m_lis = list(my_sp)\n",
    "m_lis.sort()\n",
    "new_str = ' '.join(m_lis)\n",
    "print(new_str)"
   ]
  },
  {
   "cell_type": "code",
   "execution_count": 30,
   "metadata": {},
   "outputs": [
    {
     "name": "stdout",
     "output_type": "stream",
     "text": [
      "Enter a stringenetered sentence as per the users\n",
      "as enetered per sentence the users\n"
     ]
    }
   ],
   "source": [
    "my_str = str(input(\"Enter a string\"))\n",
    "my_sp = my_str.split()\n",
    "my_sp.sort()\n",
    "new_str = ' '.join(my_sp)\n",
    "print(new_str)"
   ]
  },
  {
   "cell_type": "code",
   "execution_count": null,
   "metadata": {},
   "outputs": [],
   "source": []
  }
 ],
 "metadata": {
  "kernelspec": {
   "display_name": "Python 3",
   "language": "python",
   "name": "python3"
  },
  "language_info": {
   "codemirror_mode": {
    "name": "ipython",
    "version": 3
   },
   "file_extension": ".py",
   "mimetype": "text/x-python",
   "name": "python",
   "nbconvert_exporter": "python",
   "pygments_lexer": "ipython3",
   "version": "3.7.4"
  }
 },
 "nbformat": 4,
 "nbformat_minor": 2
}
